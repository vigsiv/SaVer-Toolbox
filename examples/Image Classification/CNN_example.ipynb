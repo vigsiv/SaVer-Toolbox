{
 "cells": [
  {
   "cell_type": "code",
   "execution_count": 1,
   "id": "ffef2c16-56e5-4c25-9126-50ba4c1dd202",
   "metadata": {},
   "outputs": [],
   "source": [
    "import torch\n",
    "import torch.nn as nn\n",
    "import torch.nn.functional as F\n",
    "import torch.optim as optim\n",
    "from torchvision import datasets, transforms\n",
    "import numpy as np\n",
    "import matplotlib.pyplot as plt\n",
    "from cnn_utils import denorm,generate_noisy_samples_from_image,img_show,logit_samples\n",
    "from verif_utils import define_classification_polytope_w_b,generate_A_b,signed_distance_function"
   ]
  },
  {
   "cell_type": "code",
   "execution_count": 2,
   "id": "ab09a38b-8c6b-4871-8470-68d4d659d9f8",
   "metadata": {},
   "outputs": [],
   "source": [
    "from nnSampleVerification import sdfs, verifMethods, plotter"
   ]
  },
  {
   "cell_type": "code",
   "execution_count": 3,
   "id": "71e3937c-db70-4a53-9b9b-0a5ea843a897",
   "metadata": {},
   "outputs": [
    {
     "name": "stdout",
     "output_type": "stream",
     "text": [
      "CUDA Available:  False\n"
     ]
    }
   ],
   "source": [
    "pretrained_model = \"lenet_mnist_model.pth\"\n",
    "use_cuda=True\n",
    "\n",
    "# Define what device we are using\n",
    "print(\"CUDA Available: \",torch.cuda.is_available())\n",
    "device = torch.device(\"cuda\" if use_cuda and torch.cuda.is_available() else \"cpu\")"
   ]
  },
  {
   "cell_type": "code",
   "execution_count": 4,
   "id": "dde8d3f3-8009-4094-8bce-303bcffa3a52",
   "metadata": {},
   "outputs": [],
   "source": [
    "# Set random seed for reproducibility\n",
    "seed = 42\n",
    "torch.manual_seed(seed)\n",
    "np.random.seed(seed)"
   ]
  },
  {
   "cell_type": "code",
   "execution_count": 5,
   "id": "d92504c4-4fb2-4684-8c3c-c164ba5aae36",
   "metadata": {},
   "outputs": [],
   "source": [
    "# LeNet Model definition\n",
    "class Net(nn.Module):\n",
    "    def __init__(self):\n",
    "        super(Net, self).__init__()\n",
    "        self.conv1 = nn.Conv2d(1, 32, 3, 1)\n",
    "        self.conv2 = nn.Conv2d(32, 64, 3, 1)\n",
    "        self.dropout1 = nn.Dropout(0.25)\n",
    "        self.dropout2 = nn.Dropout(0.5)\n",
    "        self.fc1 = nn.Linear(9216, 128)\n",
    "        self.fc2 = nn.Linear(128, 10)\n",
    "\n",
    "    def forward(self, x):\n",
    "        x = self.conv1(x)\n",
    "        x = F.relu(x)\n",
    "        x = self.conv2(x)\n",
    "        x = F.relu(x)\n",
    "        x = F.max_pool2d(x, 2)\n",
    "        x = self.dropout1(x)\n",
    "        x = torch.flatten(x, 1)\n",
    "        x = self.fc1(x)\n",
    "        x = F.relu(x)\n",
    "        x = self.dropout2(x)\n",
    "        x = self.fc2(x)\n",
    "        return x"
   ]
  },
  {
   "cell_type": "code",
   "execution_count": 6,
   "id": "3897de84-a3bf-4d36-ab18-38f15dbd455b",
   "metadata": {},
   "outputs": [],
   "source": [
    "# MNIST dataset and transform\n",
    "mnist_dataset = datasets.MNIST(root='data', train=False, download=True, transform=transforms.Compose([\n",
    "            transforms.ToTensor(),\n",
    "            transforms.Normalize((0.1307,), (0.3081,)),\n",
    "            ]))"
   ]
  },
  {
   "cell_type": "code",
   "execution_count": 7,
   "id": "3fc86c63-3b5f-4cf7-94b3-a450dbccd135",
   "metadata": {},
   "outputs": [
    {
     "data": {
      "text/plain": [
       "Net(\n",
       "  (conv1): Conv2d(1, 32, kernel_size=(3, 3), stride=(1, 1))\n",
       "  (conv2): Conv2d(32, 64, kernel_size=(3, 3), stride=(1, 1))\n",
       "  (dropout1): Dropout(p=0.25, inplace=False)\n",
       "  (dropout2): Dropout(p=0.5, inplace=False)\n",
       "  (fc1): Linear(in_features=9216, out_features=128, bias=True)\n",
       "  (fc2): Linear(in_features=128, out_features=10, bias=True)\n",
       ")"
      ]
     },
     "execution_count": 7,
     "metadata": {},
     "output_type": "execute_result"
    }
   ],
   "source": [
    "# Initialize the network\n",
    "model = Net().to(device)\n",
    "# Load the pretrained model\n",
    "model.load_state_dict(torch.load(pretrained_model, map_location=device, weights_only=True))\n",
    "# Set the model in evaluation mode. In this case this is for the Dropout layers\n",
    "model.eval()"
   ]
  },
  {
   "cell_type": "code",
   "execution_count": 8,
   "id": "0382c885-faea-4ab4-9464-45df2e9d9385",
   "metadata": {},
   "outputs": [],
   "source": [
    "#load normalized image\n",
    "norm_image, label = mnist_dataset[0]\n",
    "norm_image = norm_image.unsqueeze(0)"
   ]
  },
  {
   "cell_type": "code",
   "execution_count": 9,
   "id": "91c7d098-baf0-432d-9d93-738814f759b0",
   "metadata": {},
   "outputs": [
    {
     "name": "stdout",
     "output_type": "stream",
     "text": [
      "The chosen image is of digit 7\n"
     ]
    }
   ],
   "source": [
    "if label == 7:\n",
    "    print(\"The chosen image is of digit 7\")\n",
    "else:\n",
    "    print(\"Choose another image i.e. of digit 7 from MNIST dataset\")"
   ]
  },
  {
   "cell_type": "code",
   "execution_count": 10,
   "id": "20715fcd-a5b7-4c71-a214-9594d8d7dad2",
   "metadata": {},
   "outputs": [],
   "source": [
    "#denormalize image\n",
    "mean = torch.tensor([0.1307]).to(device)\n",
    "std = torch.tensor([0.3081]).to(device)\n",
    "image = denorm(norm_image,mean=mean, std=std)"
   ]
  },
  {
   "cell_type": "code",
   "execution_count": 11,
   "id": "f0aa76a9-26cc-45b4-8de5-8b8f47868d03",
   "metadata": {},
   "outputs": [],
   "source": [
    "#define transformation to be applied as required by nn\n",
    "trans = transforms.Normalize((0.1307,), (0.3081,))"
   ]
  },
  {
   "cell_type": "code",
   "execution_count": 12,
   "id": "639d6656-d66a-43ea-aeda-a8c5adcd14d8",
   "metadata": {},
   "outputs": [],
   "source": [
    "#standard deviation of noise\n",
    "sd = 0.5"
   ]
  },
  {
   "cell_type": "code",
   "execution_count": 13,
   "id": "179f30d0-8883-45e6-8841-44b749f7b9f6",
   "metadata": {},
   "outputs": [],
   "source": [
    "alpha = 0.001\n",
    "epsilon = 0.1\n",
    "verif1 = verifMethods.dkw(epsilon,alpha)"
   ]
  },
  {
   "cell_type": "code",
   "execution_count": 14,
   "id": "520d22ea-d8be-4d63-a5b2-1e43afd8a536",
   "metadata": {},
   "outputs": [],
   "source": [
    "#generate noisy transformed images and corresponding nn output logits\n",
    "noisy_samples,noisy_logits = logit_samples(image,model,trans,verif1.num_samples,sd)"
   ]
  },
  {
   "cell_type": "code",
   "execution_count": 15,
   "id": "1fa8fae8-dbfb-408a-8692-1c4fefe368d7",
   "metadata": {},
   "outputs": [],
   "source": [
    "verif1.addSamples(noisy_logits)"
   ]
  },
  {
   "cell_type": "code",
   "execution_count": 16,
   "id": "d172a3ae-974f-4122-a0ff-745bf0db9eb4",
   "metadata": {},
   "outputs": [],
   "source": [
    "#Defining polytope for given class index\n",
    "W,B = define_classification_polytope_w_b(noisy_logits[0],label)"
   ]
  },
  {
   "cell_type": "code",
   "execution_count": 17,
   "id": "a57058e8-8c79-45fc-9ce2-1a530ac47d2a",
   "metadata": {},
   "outputs": [],
   "source": [
    "class NN_SDF:\n",
    "    def __init__(self,W,B):\n",
    "        self.W = W\n",
    "        self.B = B\n",
    "\n",
    "    def reviseCenter(self,W,B):\n",
    "        self.W = W\n",
    "        self.B = B\n",
    "\n",
    "    def eval(self, point, zero_radius):\n",
    "        # Replace this with your actual signed distance function implementation\n",
    "        eval = np.array([signed_distance_function(l,self.W,self.B) for l in point]) - zero_radius \n",
    "        return eval"
   ]
  },
  {
   "cell_type": "code",
   "execution_count": 18,
   "id": "a116bd33-449b-4663-928a-1208924566e5",
   "metadata": {},
   "outputs": [],
   "source": [
    "SDF = NN_SDF(W,B)\n",
    "verif1.addSpecification(SDF)"
   ]
  },
  {
   "cell_type": "code",
   "execution_count": 19,
   "id": "48db2b49-5a13-4363-b723-9586cec09b6c",
   "metadata": {},
   "outputs": [],
   "source": [
    "tol = 1e-12"
   ]
  },
  {
   "cell_type": "code",
   "execution_count": 20,
   "id": "26f53d75-b62e-4e3e-9144-45fa5f817156",
   "metadata": {},
   "outputs": [],
   "source": [
    "# Run ZeroOne\n",
    "verif1.findZeroOne()"
   ]
  },
  {
   "cell_type": "code",
   "execution_count": 21,
   "id": "13d7f195-82c5-4d92-96d0-4794a4c7db69",
   "metadata": {},
   "outputs": [],
   "source": [
    "levelProb = 0.99\n",
    "levelSetZeroRadius = verif1.findLevelSet(levelProb)"
   ]
  },
  {
   "cell_type": "code",
   "execution_count": 22,
   "id": "91141846-aa0d-450a-976d-47ce28888a43",
   "metadata": {},
   "outputs": [
    {
     "name": "stdout",
     "output_type": "stream",
     "text": [
      "We need a SDF of 6.78381309985312 to satisfy the specification with the desired probability\n",
      "\n",
      "Since the required SDF is greater than 0, we do not satisfy the specification\n"
     ]
    }
   ],
   "source": [
    "print(f\"We need a SDF of {levelSetZeroRadius} to satisfy the specification with the desired probability\\n\")\n",
    "if levelSetZeroRadius > 0:\n",
    "    print(f\"Since the required SDF is greater than 0, we do not satisfy the specification\")\n",
    "else:\n",
    "    print(f\"Since the required SDF is lesser than 0, we satisfy the specification\")"
   ]
  }
 ],
 "metadata": {
  "kernelspec": {
   "display_name": "Python 3 (ipykernel)",
   "language": "python",
   "name": "python3"
  },
  "language_info": {
   "codemirror_mode": {
    "name": "ipython",
    "version": 3
   },
   "file_extension": ".py",
   "mimetype": "text/x-python",
   "name": "python",
   "nbconvert_exporter": "python",
   "pygments_lexer": "ipython3",
   "version": "3.10.12"
  }
 },
 "nbformat": 4,
 "nbformat_minor": 5
}
