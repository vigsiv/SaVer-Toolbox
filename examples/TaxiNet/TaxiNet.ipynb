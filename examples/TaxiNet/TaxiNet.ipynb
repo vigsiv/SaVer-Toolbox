{
 "cells": [
  {
   "cell_type": "code",
   "execution_count": 33,
   "metadata": {},
   "outputs": [],
   "source": [
    "import requests, os\n",
    "import numpy as np\n",
    "import h5py\n",
    "import matplotlib.pyplot as plt\n",
    "from nnSampleVerification import plotter, signedDistanceFunction, verify"
   ]
  },
  {
   "cell_type": "markdown",
   "metadata": {},
   "source": []
  },
  {
   "cell_type": "code",
   "execution_count": null,
   "metadata": {},
   "outputs": [
    {
     "name": "stdout",
     "output_type": "stream",
     "text": [
      "-----------------------------------------------------------------\n",
      "Error between true and empirical CDF (i.e. \\sup_x(|cdfTrue(x) - cdfEmpirical(x)|) < \\epsilon): epsilon = 0.1\n",
      "Confidence level (i.e. P(\\sup_x(|cdfTrue(x) - cdfEmpirical(x)|) < \\epsilon) >= 1-\\beta): 1-beta = 0.999\n",
      "Number of samples needed from simulator/sampler: 381\n",
      "Please add the specification by calling \"usingDKW.addSpecification()\" function.\n",
      "Then, add samples by calling \"usingDKW.addSamples()\" function.\n",
      "-----------------------------------------------------------------\n",
      "-----------------------------------------------------------------\n",
      "Confidence level (i.e. P(P(g_C(f(x)) <= 0) >= 1-\\Delta) >= 1-\\beta): 1-beta = 0.999, 1-Delta = 0.9\n",
      "Number of samples needed from simulator/sampler: 126\n",
      "Please add the specification by calling \"usingScenario.addSpecification()\" function.\n",
      "Then, add samples by calling \"usingScenario.addSamples()\" function.\n",
      "-----------------------------------------------------------------\n",
      "[==============================                    ]"
     ]
    }
   ],
   "source": [
    "betaDKW = 0.001\n",
    "epsilonDKW = 0.1\n",
    "Delta = 1-0.9\n",
    "verifDKW = verify.usingDKW(betaDKW,epsilonDKW,Delta)\n",
    "betaScenario = 0.001\n",
    "verifScenario = verify.usingScenario(betaScenario,Delta)\n",
    "\n",
    "# Import TaxiRun h5 using the following link: \n",
    "url = 'https://www.dropbox.com/scl/fi/f6m4ejxp20n3iifscmodq/TaxiRunFixed.h5?rlkey=di2d5ys9x6vprt5ws6pmo4xd6&st=roxxmgkg&dl=1'\n",
    "\n",
    "\n",
    "\n",
    "def download_file(url, filename):\n",
    "    if not os.path.exists(filename):\n",
    "        with requests.get(url, stream=True) as r:\n",
    "            r.raise_for_status()\n",
    "            total_size = int(r.headers.get('content-length', 0))\n",
    "            print(f'Downloading {filename} ({total_size // 1024} KB):', end='')\n",
    "            with open(filename, 'wb') as f:\n",
    "                for chunk in r.iter_content(chunk_size=8192):\n",
    "                    if chunk:\n",
    "                        f.write(chunk)\n",
    "                        done = int(50 * f.tell() / total_size)\n",
    "                        print(f'\\r[{\"=\" * done}{\" \" * (50-done)}]', end='')\n",
    "    else:\n",
    "        print(f'{filename} already exists. Skipping download.')\n",
    "\n",
    "download_file(url, 'TaxiRunFixed.h5')\n",
    "f = h5py.File('./TaxiRunFixed.h5', 'r')\n",
    "tot_full_runs = 408\n",
    "y_pos = np.zeros((tot_full_runs,1))\n",
    "\n",
    "for i in np.arange(0,tot_full_runs):\n",
    "\n",
    "    run_num = 'run_' + str(i+1)\n",
    "    group = f.get(run_num)\n",
    "    y_pos[i] = group.get('cte')[-1]"
   ]
  },
  {
   "cell_type": "code",
   "execution_count": null,
   "metadata": {},
   "outputs": [
    {
     "name": "stdout",
     "output_type": "stream",
     "text": [
      "-----------------------------------------------------------------\n",
      "Specification updated. Please add samples by calling 'usingDKW.addSamples()' function.\n",
      "----------------------------------------------------------------\n",
      "-----------------------------------------------------------------\n",
      "Specification updated. Please add samples by calling 'usingScenario.addSamples()' function.\n",
      "----------------------------------------------------------------\n"
     ]
    }
   ],
   "source": [
    "# Center of the norm-ball\n",
    "center = np.array(0.0)\n",
    "zero_radius_fixed = np.array(1.0)\n",
    "normSDF = signedDistanceFunction.norm(center,zero_radius_fixed,norm=1)\n",
    "\n",
    "# Add SDF: \n",
    "verifDKW.specification(normSDF)\n",
    "verifScenario.specification(normSDF)"
   ]
  },
  {
   "cell_type": "code",
   "execution_count": null,
   "metadata": {},
   "outputs": [
    {
     "name": "stdout",
     "output_type": "stream",
     "text": [
      "Number of samples needed from simulator/sampler: 381\n",
      "Number of samples needed from simulator/sampler: 126\n"
     ]
    }
   ],
   "source": [
    "# Generate samples\n",
    "samples = y_pos\n",
    "# Add samples to the verifier\n",
    "verifDKW.samples(samples[0:verifDKW.samplesRequired()])    \n",
    "verifScenario.samples(samples[0:verifScenario.samplesRequired()])"
   ]
  },
  {
   "cell_type": "code",
   "execution_count": null,
   "metadata": {},
   "outputs": [
    {
     "name": "stdout",
     "output_type": "stream",
     "text": [
      "-----------------------------------------------------------------\n",
      "Specification NOT satisfied as probability is 15.485564304461944% +/- 10.0% which is less than 0.9\n",
      "Run \"usingDKW.modifySetScaling()\" to find the scaling factor that satisfies the specification at satisfaction probability.\n",
      "-----------------------------------------------------------------\n",
      "-----------------------------------------------------------------\n",
      "Specification NOT satisfied as scaling is 1.2520071507626938 which is greater than 0\n",
      "Run \"usingScenario.modifySetScaling()\" to find the scaling factor that satisfies the specification at satisfaction probability.\n",
      "-----------------------------------------------------------------\n"
     ]
    }
   ],
   "source": [
    "# Check if the samples satisfy the specification: \n",
    "verifDKW.SpecificationSatisfied()\n",
    "verifScenario.SpecificationSatisfied()"
   ]
  },
  {
   "cell_type": "code",
   "execution_count": null,
   "metadata": {},
   "outputs": [
    {
     "name": "stdout",
     "output_type": "stream",
     "text": [
      "-----------------------------------------------------------------\n",
      "DKW-based scaling factor is modified to 0.632120601120107 from the previous value: 0.0\n",
      "Please rerun \"usingDKW.SpecificationSatisfied()\" to check if the specification is satisfied.\n",
      "-----------------------------------------------------------------\n",
      "-----------------------------------------------------------------\n",
      "Scenario-based scaling factor is modified to 1.2520071507626938 from the previous value: 0.0\n",
      "Please rerun \"usingScenario.SpecificationSatisfied()\" to check if the specification is satisfied.\n",
      "-----------------------------------------------------------------\n"
     ]
    }
   ],
   "source": [
    "# Modify the zero level set:\n",
    "setEnlargementDKW = verifDKW.modifySetScaling()\n",
    "setEnlargementScenario = verifScenario.modifySetScaling()"
   ]
  },
  {
   "cell_type": "code",
   "execution_count": null,
   "metadata": {},
   "outputs": [
    {
     "name": "stdout",
     "output_type": "stream",
     "text": [
      "-----------------------------------------------------------------\n",
      "Specification satisfied with probability: 90.02624671916011% +/- 10.0% which is greater than 0.9\n",
      "-----------------------------------------------------------------\n",
      "-----------------------------------------------------------------\n",
      "Specification satisfied as scaling is 0.0 which is equal to 0\n",
      "-----------------------------------------------------------------\n"
     ]
    }
   ],
   "source": [
    "# Check if the samples satisfy the specification: \n",
    "verifDKW.SpecificationSatisfied()\n",
    "verifScenario.SpecificationSatisfied()"
   ]
  },
  {
   "cell_type": "code",
   "execution_count": null,
   "metadata": {},
   "outputs": [
    {
     "data": {
      "image/png": "[encoded data removed]",
      "text/plain": [
       "<Figure size 1000x600 with 1 Axes>"
      ]
     },
     "metadata": {},
     "output_type": "display_data"
    }
   ],
   "source": [
    "\n",
    "\n",
    "# Create a plot\n",
    "plt.figure(figsize=(10, 6))\n",
    "\n",
    "# Add horizontal lines at 10 and -10\n",
    "plt.axhline(y=0, color='k', linestyle='--', label='Centerline of Runway')\n",
    "\n",
    "# Plot the samples\n",
    "plt.plot(422*np.ones(samples.shape[0]),samples, 'o', label='Samples of Final Position', markersize=10, color='blue')\n",
    "\n",
    "plt.plot([422, 422], [-1-setEnlargementScenario, 1+setEnlargementScenario], '-', color='green', linewidth=6, label='Modified Scenario Specification')\n",
    "plt.plot([420.5, 423.5], [1+setEnlargementScenario, 1+setEnlargementScenario], '-', color='green', linewidth=4)\n",
    "plt.plot([420.5, 423.5], [-1-setEnlargementScenario, -1-setEnlargementScenario], '-', color='green',linewidth=4)\n",
    "plt.plot([422, 422], [-1-setEnlargementDKW, 1+setEnlargementDKW], '-', color='red', linewidth=4, label='Modified DKW Specification')\n",
    "plt.plot([421, 423], [1+setEnlargementDKW, 1+setEnlargementDKW], '-', color='red', linewidth=3)\n",
    "plt.plot([421, 423], [-1-setEnlargementDKW, -1-setEnlargementDKW], '-', color='red',linewidth=3)\n",
    "# Add box and whisker like lines at y = ±1.5 and x = 422\n",
    "plt.plot([422, 422], [-1, 1], '-', color='orange', linewidth=2)\n",
    "plt.plot([421.5, 422.5], [1, 1], '-', color='orange', linewidth=2)\n",
    "plt.plot([421.5, 422.5], [-1, -1], '-', color='orange',linewidth=2, label='Original Specification')\n",
    "\n",
    "\n",
    "\n",
    "\n",
    "# Add labels and title\n",
    "plt.xlabel('DownTrack Error')\n",
    "plt.ylabel('Cross Track Error')\n",
    "\n",
    "plt.legend(loc='best')\n",
    "\n",
    "# Show the plot\n",
    "plt.show()"
   ]
  }
 ],
 "metadata": {
  "kernelspec": {
   "display_name": "Python 3",
   "language": "python",
   "name": "python3"
  },
  "language_info": {
   "codemirror_mode": {
    "name": "ipython",
    "version": 3
   },
   "file_extension": ".py",
   "mimetype": "text/x-python",
   "name": "python",
   "nbconvert_exporter": "python",
   "pygments_lexer": "ipython3",
   "version": "3.10.12"
  }
 },
 "nbformat": 4,
 "nbformat_minor": 2
}
