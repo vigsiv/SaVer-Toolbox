{
 "cells": [
  {
   "cell_type": "markdown",
   "metadata": {},
   "source": []
  },
  {
   "cell_type": "code",
   "execution_count": 5,
   "metadata": {},
   "outputs": [],
   "source": [
    "import numpy as np\n",
    "from nnSampleVerification import sdfs, verifMethods, plotter"
   ]
  },
  {
   "cell_type": "markdown",
   "metadata": {},
   "source": []
  },
  {
   "cell_type": "code",
   "execution_count": 6,
   "metadata": {},
   "outputs": [
    {
     "name": "stderr",
     "output_type": "stream",
     "text": [
      "/home/partha/.local/lib/python3.10/site-packages/scipy/optimize/_root_scalar.py:298: RuntimeWarning: Tolerance of 0.029161572062263552 reached.\n",
      "  r, sol = methodc(f, x0, args=args, fprime=None, fprime2=None,\n"
     ]
    },
    {
     "name": "stdout",
     "output_type": "stream",
     "text": [
      "[-1.50743437  5.04247045]\n"
     ]
    }
   ],
   "source": [
    "# Mean vector\n",
    "mean = np.array([0, 0])\n",
    "\n",
    "# Covariance matrix\n",
    "cov = np.array([[0.7, 0.25], [0.25, 0.5]])\n",
    "\n",
    "alpha = 0.01\n",
    "epsilon = 0.0001\n",
    "verif1 = verifMethods.dkw(epsilon,alpha)\n",
    "\n",
    "# Generate samples\n",
    "samples = np.random.multivariate_normal(mean, cov,verif1.num_samples)\n",
    "\n",
    "# Add samples to the verifier\n",
    "verif1.addSamples(samples)\n",
    "\n",
    "# Center of the norm-ball\n",
    "center = np.array([0, 0])\n",
    "normSDF = sdfs.norm(center)\n",
    "\n",
    "# Add SDF: \n",
    "verif1.addSpecification(normSDF)\n",
    "\n",
    "# Run ZeroOne\n",
    "verif1.findZeroOne()\n",
    "print(verif1.zeroOne)\n",
    "\n",
    "levelProb = 0.999\n",
    "levelSetZeroRadius = verif1.findLevelSet(levelProb)\n",
    "\n",
    "\n",
    "print(levelSetZeroRadius)\n",
    "print(verif1.empiricalCDFGen(levelSetZeroRadius))\n",
    "\n",
    "plotter.plot2DNormLevelSet(center,levelSetZeroRadius,samples)\n",
    "evalPts = np.linspace(-10,20,100)\n",
    "plotter.histogramPlot(verif1.empiricalCDFGen,evalPts,levelSetZeroRadius,levelProb)\n",
    "\n"
   ]
  }
 ],
 "metadata": {
  "kernelspec": {
   "display_name": "Python 3",
   "language": "python",
   "name": "python3"
  },
  "language_info": {
   "codemirror_mode": {
    "name": "ipython",
    "version": 3
   },
   "file_extension": ".py",
   "mimetype": "text/x-python",
   "name": "python",
   "nbconvert_exporter": "python",
   "pygments_lexer": "ipython3",
   "version": "3.10.12"
  }
 },
 "nbformat": 4,
 "nbformat_minor": 2
}
