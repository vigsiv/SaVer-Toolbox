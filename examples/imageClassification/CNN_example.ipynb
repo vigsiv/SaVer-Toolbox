{
 "cells": [
  {
   "cell_type": "code",
   "execution_count": 45,
   "id": "ffef2c16-56e5-4c25-9126-50ba4c1dd202",
   "metadata": {},
   "outputs": [],
   "source": [
    "import torch\n",
    "import torch.nn as nn\n",
    "import torch.nn.functional as F\n",
    "import torch.optim as optim\n",
    "from torchvision import datasets, transforms\n",
    "import numpy as np\n",
    "import matplotlib.pyplot as plt\n",
    "from nnSampleVerification import plotter, signedDistanceFunction, verify\n",
    "from cnn_utils import denorm,generate_noisy_samples_from_image,img_show,logit_samples\n",
    "from verif_utils import define_classification_polytope_w_b"
   ]
  },
  {
   "cell_type": "code",
   "execution_count": 46,
   "id": "2e3ab956",
   "metadata": {},
   "outputs": [
    {
     "name": "stdout",
     "output_type": "stream",
     "text": [
      "-----------------------------------------------------------------\n",
      "Error between true and empirical CDF (i.e. \\sup_x(|cdfTrue(x) - cdfEmpirical(x)|) < \\epsilon): epsilon = 0.01\n",
      "Confidence level (i.e. P(\\sup_x(|cdfTrue(x) - cdfEmpirical(x)|) < \\epsilon) >= 1-\\beta): 1-beta = 0.999\n",
      "Number of samples needed from simulator/sampler: 38005\n",
      "Please add the specification by calling \"usingDKW.addSpecification()\" function.\n",
      "Then, add samples by calling \"usingDKW.samples()\" function.\n",
      "-----------------------------------------------------------------\n",
      "-----------------------------------------------------------------\n",
      "Confidence level (i.e. P(P(g_C(f(x)) <= 0) >= 1-\\Delta) >= 1-\\beta): 1-beta = 0.999, 1-Delta = 0.99\n",
      "Number of samples needed from simulator/sampler: 1251\n",
      "Please add the specification by calling \"usingScenario.addSpecification()\" function.\n",
      "Then, add samples by calling \"usingScenario.samples()\" function.\n",
      "-----------------------------------------------------------------\n"
     ]
    }
   ],
   "source": [
    "betaDKW = 0.001\n",
    "epsilonDKW = 0.01\n",
    "Delta = 1-0.99\n",
    "verifDKW = verify.usingDKW(betaDKW,epsilonDKW,Delta)\n",
    "betaScenario = 0.001\n",
    "verifScenario = verify.usingScenario(betaScenario,Delta)"
   ]
  },
  {
   "cell_type": "code",
   "execution_count": null,
   "id": "d92504c4-4fb2-4684-8c3c-c164ba5aae36",
   "metadata": {},
   "outputs": [],
   "source": [
    "pretrained_model = \"lenet_mnist_model.pth\"\n",
    "\n",
    "# Set random seed for reproducibility\n",
    "torch.manual_seed(42)\n",
    "# LeNet Model definition\n",
    "class cnnLeNet(nn.Module):\n",
    "    def __init__(self):\n",
    "        super(cnnLeNet, self).__init__()\n",
    "        self.conv1 = nn.Conv2d(1, 32, 3, 1)\n",
    "        self.conv2 = nn.Conv2d(32, 64, 3, 1)\n",
    "        self.dropout1 = nn.Dropout(0.25)\n",
    "        self.dropout2 = nn.Dropout(0.5)\n",
    "        self.fc1 = nn.Linear(9216, 128)\n",
    "        self.fc2 = nn.Linear(128, 10)\n",
    "\n",
    "    def forward(self, x):\n",
    "        x = self.conv1(x)\n",
    "        x = F.relu(x)\n",
    "        x = self.conv2(x)\n",
    "        x = F.relu(x)\n",
    "        x = F.max_pool2d(x, 2)\n",
    "        x = self.dropout1(x)\n",
    "        x = torch.flatten(x, 1)\n",
    "        x = self.fc1(x)\n",
    "        x = F.relu(x)\n",
    "        x = self.dropout2(x)\n",
    "        x = self.fc2(x)\n",
    "        return x"
   ]
  },
  {
   "cell_type": "code",
   "execution_count": 48,
   "id": "3897de84-a3bf-4d36-ab18-38f15dbd455b",
   "metadata": {},
   "outputs": [],
   "source": [
    "# MNIST dataset and transform\n",
    "mnist_dataset = datasets.MNIST(root='data', train=False, download=True, transform=transforms.Compose([\n",
    "            transforms.ToTensor(),\n",
    "            transforms.Normalize((0.1307,), (0.3081,)),\n",
    "            ]))"
   ]
  },
  {
   "cell_type": "code",
   "execution_count": 49,
   "id": "3fc86c63-3b5f-4cf7-94b3-a450dbccd135",
   "metadata": {},
   "outputs": [
    {
     "ename": "FileNotFoundError",
     "evalue": "[Errno 2] No such file or directory: './examples/Image Classification/lenet_mnist_model.pth'",
     "output_type": "error",
     "traceback": [
      "\u001b[0;31m---------------------------------------------------------------------------\u001b[0m",
      "\u001b[0;31mFileNotFoundError\u001b[0m                         Traceback (most recent call last)",
      "Cell \u001b[0;32mIn[49], line 4\u001b[0m\n\u001b[1;32m      2\u001b[0m model \u001b[38;5;241m=\u001b[39m cnnLeNet()\n\u001b[1;32m      3\u001b[0m \u001b[38;5;66;03m# Load the pretrained model\u001b[39;00m\n\u001b[0;32m----> 4\u001b[0m model\u001b[38;5;241m.\u001b[39mload_state_dict(\u001b[43mtorch\u001b[49m\u001b[38;5;241;43m.\u001b[39;49m\u001b[43mload\u001b[49m\u001b[43m(\u001b[49m\u001b[43mpretrained_model\u001b[49m\u001b[43m,\u001b[49m\u001b[43m \u001b[49m\u001b[43mweights_only\u001b[49m\u001b[38;5;241;43m=\u001b[39;49m\u001b[38;5;28;43;01mTrue\u001b[39;49;00m\u001b[43m)\u001b[49m)\n\u001b[1;32m      5\u001b[0m \u001b[38;5;66;03m# Set the model in evaluation mode. In this case this is for the Dropout layers: \u001b[39;00m\n\u001b[1;32m      6\u001b[0m model\u001b[38;5;241m.\u001b[39meval()\n",
      "File \u001b[0;32m~/.local/lib/python3.10/site-packages/torch/serialization.py:1065\u001b[0m, in \u001b[0;36mload\u001b[0;34m(f, map_location, pickle_module, weights_only, mmap, **pickle_load_args)\u001b[0m\n\u001b[1;32m   1062\u001b[0m \u001b[38;5;28;01mif\u001b[39;00m \u001b[38;5;124m'\u001b[39m\u001b[38;5;124mencoding\u001b[39m\u001b[38;5;124m'\u001b[39m \u001b[38;5;129;01mnot\u001b[39;00m \u001b[38;5;129;01min\u001b[39;00m pickle_load_args\u001b[38;5;241m.\u001b[39mkeys():\n\u001b[1;32m   1063\u001b[0m     pickle_load_args[\u001b[38;5;124m'\u001b[39m\u001b[38;5;124mencoding\u001b[39m\u001b[38;5;124m'\u001b[39m] \u001b[38;5;241m=\u001b[39m \u001b[38;5;124m'\u001b[39m\u001b[38;5;124mutf-8\u001b[39m\u001b[38;5;124m'\u001b[39m\n\u001b[0;32m-> 1065\u001b[0m \u001b[38;5;28;01mwith\u001b[39;00m \u001b[43m_open_file_like\u001b[49m\u001b[43m(\u001b[49m\u001b[43mf\u001b[49m\u001b[43m,\u001b[49m\u001b[43m \u001b[49m\u001b[38;5;124;43m'\u001b[39;49m\u001b[38;5;124;43mrb\u001b[39;49m\u001b[38;5;124;43m'\u001b[39;49m\u001b[43m)\u001b[49m \u001b[38;5;28;01mas\u001b[39;00m opened_file:\n\u001b[1;32m   1066\u001b[0m     \u001b[38;5;28;01mif\u001b[39;00m _is_zipfile(opened_file):\n\u001b[1;32m   1067\u001b[0m         \u001b[38;5;66;03m# The zipfile reader is going to advance the current file position.\u001b[39;00m\n\u001b[1;32m   1068\u001b[0m         \u001b[38;5;66;03m# If we want to actually tail call to torch.jit.load, we need to\u001b[39;00m\n\u001b[1;32m   1069\u001b[0m         \u001b[38;5;66;03m# reset back to the original position.\u001b[39;00m\n\u001b[1;32m   1070\u001b[0m         orig_position \u001b[38;5;241m=\u001b[39m opened_file\u001b[38;5;241m.\u001b[39mtell()\n",
      "File \u001b[0;32m~/.local/lib/python3.10/site-packages/torch/serialization.py:468\u001b[0m, in \u001b[0;36m_open_file_like\u001b[0;34m(name_or_buffer, mode)\u001b[0m\n\u001b[1;32m    466\u001b[0m \u001b[38;5;28;01mdef\u001b[39;00m \u001b[38;5;21m_open_file_like\u001b[39m(name_or_buffer, mode):\n\u001b[1;32m    467\u001b[0m     \u001b[38;5;28;01mif\u001b[39;00m _is_path(name_or_buffer):\n\u001b[0;32m--> 468\u001b[0m         \u001b[38;5;28;01mreturn\u001b[39;00m \u001b[43m_open_file\u001b[49m\u001b[43m(\u001b[49m\u001b[43mname_or_buffer\u001b[49m\u001b[43m,\u001b[49m\u001b[43m \u001b[49m\u001b[43mmode\u001b[49m\u001b[43m)\u001b[49m\n\u001b[1;32m    469\u001b[0m     \u001b[38;5;28;01melse\u001b[39;00m:\n\u001b[1;32m    470\u001b[0m         \u001b[38;5;28;01mif\u001b[39;00m \u001b[38;5;124m'\u001b[39m\u001b[38;5;124mw\u001b[39m\u001b[38;5;124m'\u001b[39m \u001b[38;5;129;01min\u001b[39;00m mode:\n",
      "File \u001b[0;32m~/.local/lib/python3.10/site-packages/torch/serialization.py:449\u001b[0m, in \u001b[0;36m_open_file.__init__\u001b[0;34m(self, name, mode)\u001b[0m\n\u001b[1;32m    448\u001b[0m \u001b[38;5;28;01mdef\u001b[39;00m \u001b[38;5;21m__init__\u001b[39m(\u001b[38;5;28mself\u001b[39m, name, mode):\n\u001b[0;32m--> 449\u001b[0m     \u001b[38;5;28msuper\u001b[39m()\u001b[38;5;241m.\u001b[39m\u001b[38;5;21m__init__\u001b[39m(\u001b[38;5;28;43mopen\u001b[39;49m\u001b[43m(\u001b[49m\u001b[43mname\u001b[49m\u001b[43m,\u001b[49m\u001b[43m \u001b[49m\u001b[43mmode\u001b[49m\u001b[43m)\u001b[49m)\n",
      "\u001b[0;31mFileNotFoundError\u001b[0m: [Errno 2] No such file or directory: './examples/Image Classification/lenet_mnist_model.pth'"
     ]
    }
   ],
   "source": [
    "# Initialize the network\n",
    "model = cnnLeNet()\n",
    "# Load the pretrained model\n",
    "model.load_state_dict(torch.load(pretrained_model, weights_only=True))\n",
    "# Set the model in evaluation mode. In this case this is for the Dropout layers: \n",
    "model.eval()"
   ]
  },
  {
   "cell_type": "code",
   "execution_count": null,
   "id": "0382c885-faea-4ab4-9464-45df2e9d9385",
   "metadata": {},
   "outputs": [
    {
     "name": "stdout",
     "output_type": "stream",
     "text": [
      "Original digit: 7\n",
      "---------------------------------\n"
     ]
    }
   ],
   "source": [
    "#load normalized image\n",
    "norm_image, label = mnist_dataset[0]\n",
    "norm_image = norm_image.unsqueeze(0)\n",
    "print(f\"Original digit: {label}\")\n",
    "print(\"---------------------------------\")"
   ]
  },
  {
   "cell_type": "code",
   "execution_count": null,
   "id": "20715fcd-a5b7-4c71-a214-9594d8d7dad2",
   "metadata": {},
   "outputs": [
    {
     "data": {
      "image/png": "[encoded data removed]",
      "text/plain": [
       "<Figure size 640x480 with 1 Axes>"
      ]
     },
     "metadata": {},
     "output_type": "display_data"
    }
   ],
   "source": [
    "#Denormalize image:\n",
    "mean = torch.tensor([0.1307])\n",
    "std = torch.tensor([0.3081])\n",
    "image = denorm(norm_image,mean=mean, std=std)\n",
    "img_show(image,save_image = True,save_name = 'original_7.png')"
   ]
  },
  {
   "cell_type": "code",
   "execution_count": null,
   "id": "520d22ea-d8be-4d63-a5b2-1e43afd8a536",
   "metadata": {},
   "outputs": [
    {
     "name": "stdout",
     "output_type": "stream",
     "text": [
      "Number of samples needed from simulator/sampler: 38005\n",
      "Number of samples needed from simulator/sampler: 1251\n"
     ]
    },
    {
     "data": {
      "image/png": "[encoded data removed]",
      "text/plain": [
       "<Figure size 640x480 with 1 Axes>"
      ]
     },
     "metadata": {},
     "output_type": "display_data"
    },
    {
     "data": {
      "image/png": "[encoded data removed]",
      "text/plain": [
       "<Figure size 640x480 with 1 Axes>"
      ]
     },
     "metadata": {},
     "output_type": "display_data"
    }
   ],
   "source": [
    "#define transformation to be applied as required by nn\n",
    "trans = transforms.Normalize((0.1307,), (0.3081,))\n",
    "#standard deviation of noise\n",
    "sd = 0.5\n",
    "#generate noisy transformed images and corresponding nn output logits\n",
    "noisySamplesDKW,noisyLogitsDKW = logit_samples(image,model,trans,verifDKW.samplesRequired(),sd)\n",
    "noisySamplesScenario,noisyLogitsScenario = logit_samples(image,model,trans,verifScenario.samplesRequired(),sd)\n",
    "img_show(denorm(noisySamplesDKW[0],mean=mean, std=std),save_image = True,save_name = 'noisy7DKW.png')\n",
    "img_show(denorm(noisySamplesScenario[0],mean=mean, std=std),save_image = True,save_name = 'noisy7Scenario.png')"
   ]
  },
  {
   "cell_type": "code",
   "execution_count": null,
   "id": "a116bd33-449b-4663-928a-1208924566e5",
   "metadata": {},
   "outputs": [
    {
     "name": "stdout",
     "output_type": "stream",
     "text": [
      "-----------------------------------------------------------------\n",
      "Specification updated. Please add samples by calling 'usingDKW.samples()' function.\n",
      "----------------------------------------------------------------\n",
      "-----------------------------------------------------------------\n",
      "Specification updated. Please add samples by calling 'usingScenario.samples()' function.\n",
      "----------------------------------------------------------------\n"
     ]
    }
   ],
   "source": [
    "#Defining polytope for given class index\n",
    "wDKW,bDKW = define_classification_polytope_w_b(noisyLogitsDKW[0],label)\n",
    "sdfDKW = signedDistanceFunction.polytope(wDKW,bDKW)\n",
    "wScenario,bScenario = define_classification_polytope_w_b(noisyLogitsScenario[0],label)\n",
    "sdfScenario = signedDistanceFunction.polytope(wScenario,bScenario)\n",
    "verifDKW.specification(sdfDKW)\n",
    "verifScenario.specification(sdfScenario)"
   ]
  },
  {
   "cell_type": "code",
   "execution_count": null,
   "id": "26f53d75-b62e-4e3e-9144-45fa5f817156",
   "metadata": {},
   "outputs": [],
   "source": [
    "# Add the noisy samples to the verification problem: \n",
    "verifDKW.samples(noisyLogitsDKW)\n",
    "verifScenario.samples(noisyLogitsScenario)"
   ]
  },
  {
   "cell_type": "code",
   "execution_count": null,
   "id": "c2041210",
   "metadata": {},
   "outputs": [
    {
     "name": "stdout",
     "output_type": "stream",
     "text": [
      "-----------------------------------------------------------------\n",
      "Specification NOT satisfied as probability is 31.9773713985002% +/- 1.0% which is less than 0.99\n",
      "Run \"usingDKW.modifySet()\" to find the scaling factor that satisfies the specification at satisfaction probability.\n",
      "-----------------------------------------------------------------\n",
      "-----------------------------------------------------------------\n",
      "Specification NOT satisfied as scaling is 7.768492563396678 which is greater than 0\n",
      "Run \"usingScenario.modifySet()\" to find the scaling factor that satisfies the specification at satisfaction probability.\n",
      "-----------------------------------------------------------------\n"
     ]
    }
   ],
   "source": [
    "# Check if the samples satisfy the specification: \n",
    "verifDKW.probability()\n",
    "verifScenario.probability()"
   ]
  }
 ],
 "metadata": {
  "kernelspec": {
   "display_name": "Python 3",
   "language": "python",
   "name": "python3"
  },
  "language_info": {
   "codemirror_mode": {
    "name": "ipython",
    "version": 3
   },
   "file_extension": ".py",
   "mimetype": "text/x-python",
   "name": "python",
   "nbconvert_exporter": "python",
   "pygments_lexer": "ipython3",
   "version": "3.10.12"
  }
 },
 "nbformat": 4,
 "nbformat_minor": 5
}
